{
 "cells": [
  {
   "cell_type": "code",
   "execution_count": 1,
   "metadata": {},
   "outputs": [],
   "source": [
    "import math\n"
   ]
  },
  {
   "cell_type": "code",
   "execution_count": 7,
   "metadata": {},
   "outputs": [],
   "source": [
    "def get_circle_linkage(radius, origin, rotation_rate, cycle, degree_offset=0):\n",
    "    \"\"\"\n",
    "    radius:\n",
    "    origin: (x,y)\n",
    "    rotation_rate: cycles per full revolution\n",
    "    cycle: \n",
    "    degree_offset:  offset the arm by n-Degrees \n",
    "    \"\"\"\n",
    "    \n",
    "    RADIANS_IN_CIRCLE = 2 * math.pi\n",
    "\n",
    "    pct_rotation = (cycle*1.0 % rotation_rate) / rotation_rate\n",
    "    radians = (RADIANS_IN_CIRCLE * pct_rotation) + math.radians(degree_offset)\n",
    "    #print(pct_rotation, radians)\n",
    "    x_component = radius * math.cos(radians)\n",
    "    y_component = radius * math.sin(radians)\n",
    "    pivot = (origin[0]+x_component, origin[1]+y_component)\n",
    "    return pivot\n",
    "\n",
    "def get_vertex_point(P0, P1, L1, L2, ):\n",
    "    \"\"\"\n",
    "    P0:  (x,y) position of point 0\n",
    "    P1:  (x,y) position of point 1\n",
    "    L1:  length of arm 1\n",
    "    L2:  length of arm 2\n",
    "    \n",
    "    returns (P3a, P3b) \n",
    "    \"\"\"\n",
    "    \n",
    "    d = math.sqrt((P1[0]-P0[0])**2 + (P1[1]-P0[1])**2) \n",
    "    a = (L1**2 + d**2 - L2**2)/(2*d)\n",
    "    h = math.sqrt(L1**2 - a**2)\n",
    "    b = math.sqrt(L2**2 - h**2)\n",
    "    \n",
    "    _x2 = P0[0] + (a/d)*(P1[0]-P0[0])\n",
    "    _y2 = P0[1] + (a/d)*(P1[1]-P0[1])\n",
    "    P2 = (_x2,_y2)\n",
    "    \n",
    "    _x3a = P2[0] - h*(P1[1]-P0[1])/d\n",
    "    _y3a = P2[1] + h*(P1[0]-P0[0])/d\n",
    "    P3a = (_x3a, _y3a)\n",
    "    \n",
    "    _x3b = P2[0] + h*(P1[1]-P0[1])/d\n",
    "    _y3b = P2[1] - h*(P1[0]-P0[0])/d\n",
    "    P3b = (_x3b, _y3b)\n",
    "    \n",
    "    return (P3a, P3b)\n",
    "\n",
    "\n",
    "def extrapolate_pivot(origin_pt, pivot_pt, beam_length):\n",
    "    \"\"\"\n",
    "    return location of point on other side of the pivot\n",
    "    beam_length: the length of the second half of segment\n",
    "    \"\"\"\n",
    "    \n",
    "    d = math.sqrt((pivot_pt[0]-origin_pt[0])**2 + (pivot_pt[1]-origin_pt[1])**2)\n",
    "    #print(d)\n",
    "    x_unit_component = (pivot_pt[0]-origin_pt[0])/d\n",
    "    y_unit_component = (pivot_pt[1]-origin_pt[1])/d\n",
    "    #print(x_unit_component, y_unit_component)\n",
    "    result_pt = ( (pivot_pt[0]+x_unit_component*beam_length), (pivot_pt[1]+y_unit_component*beam_length) )\n",
    "    return result_pt"
   ]
  },
  {
   "cell_type": "code",
   "execution_count": 50,
   "metadata": {},
   "outputs": [
    {
     "data": {
      "text/plain": [
       "(336.44808834892376, 845.2196568969337)"
      ]
     },
     "execution_count": 50,
     "metadata": {},
     "output_type": "execute_result"
    }
   ],
   "source": [
    "def work():\n",
    "    \n",
    "    left_radius=100\n",
    "    left_origin=(200,200)\n",
    "    left_rotation_rate = 21*10\n",
    "    left_degree_offset = 0\n",
    "\n",
    "    right_radius=100\n",
    "    right_origin=(400,200)\n",
    "    right_rotation_rate = 23*10\n",
    "    right_degree_offset = 0\n",
    "\n",
    "    L1 = 300\n",
    "    L2 = 300\n",
    "    L3 = 100\n",
    "    L4 = 100\n",
    "    L5 = 200\n",
    "    L6 = 200\n",
    "        \n",
    "    for cycle  in range(0,150000,1):\n",
    "\n",
    "        P0 = get_circle_linkage(left_radius, left_origin, left_rotation_rate, cycle, degree_offset=left_degree_offset)\n",
    "        P1 = get_circle_linkage(right_radius, right_origin, right_rotation_rate, cycle, degree_offset=right_degree_offset)\n",
    "\n",
    "        P2a,P2b = get_vertex_point(P0, P1, L1, L2, )\n",
    "\n",
    "        P3 = extrapolate_pivot(origin_pt=P1, pivot_pt=P2a, beam_length=L3)\n",
    "        P4 = extrapolate_pivot(origin_pt=P0, pivot_pt=P2a, beam_length=L4)\n",
    "\n",
    "        P_pen = get_vertex_point(P3, P4, L5, L6, )\n",
    "    \n",
    "    \n",
    "    return P_pen[0]\n",
    "\n",
    "\n",
    "work()"
   ]
  },
  {
   "cell_type": "code",
   "execution_count": 47,
   "metadata": {},
   "outputs": [
    {
     "name": "stdout",
     "output_type": "stream",
     "text": [
      "P0=(300.0, 200.0)\n",
      "P1=500.0, 200.0\n",
      "P2a, P2b = (400.0, 482.8), (400.0, -82.8)\n",
      "P3=366.7, 577.1\n",
      "P4=433.3, 577.1\n"
     ]
    },
    {
     "data": {
      "text/plain": [
       "((400.0, 774.3262760694793), (400.0, 379.92095719617146))"
      ]
     },
     "execution_count": 47,
     "metadata": {},
     "output_type": "execute_result"
    }
   ],
   "source": [
    "def work_single():\n",
    "    \n",
    "    left_radius=100\n",
    "    left_origin=(200,200)\n",
    "    left_rotation_rate = 21*10\n",
    "    left_degree_offset = 0\n",
    "\n",
    "    right_radius=100\n",
    "    right_origin=(400,200)\n",
    "    right_rotation_rate = 23*10\n",
    "    right_degree_offset = 0\n",
    "\n",
    "    L1 = 300\n",
    "    L2 = 300\n",
    "    L3 = 100\n",
    "    L4 = 100\n",
    "    L5 = 200\n",
    "    L6 = 200\n",
    "        \n",
    "    cycle = 0\n",
    "    \n",
    "    P0 = get_circle_linkage(left_radius, left_origin, left_rotation_rate, cycle, degree_offset=left_degree_offset)\n",
    "    P1 = get_circle_linkage(right_radius, right_origin, right_rotation_rate, cycle, degree_offset=right_degree_offset)\n",
    "    \n",
    "    P2a,P2b = get_vertex_point(P0, P1, L1, L2, )\n",
    "    \n",
    "    P3 = extrapolate_pivot(origin_pt=P1, pivot_pt=P2a, beam_length=L3)\n",
    "    P4 = extrapolate_pivot(origin_pt=P0, pivot_pt=P2a, beam_length=L4)\n",
    "    \n",
    "    P_pen = get_vertex_point(P3, P4, L5, L6, )\n",
    "    \n",
    "    \n",
    "    print(f\"P0=({P0[0]:.1f}, {P0[1]:.1f})\")\n",
    "    print(f\"P1={P1[0]:.1f}, {P1[1]:.1f}\")\n",
    "    print(f\"P2a, P2b = ({P2a[0]:.1f}, {P2a[1]:.1f}), ({P2b[0]:.1f}, {P2b[1]:.1f})\")\n",
    "    print(f\"P3={P3[0]:.1f}, {P3[1]:.1f}\")\n",
    "    print(f\"P4={P4[0]:.1f}, {P4[1]:.1f}\")\n",
    "    \n",
    "    return P_pen[0]\n",
    "\n",
    "\n",
    "work()\n",
    "    \n",
    "    "
   ]
  },
  {
   "cell_type": "code",
   "execution_count": 29,
   "metadata": {},
   "outputs": [
    {
     "name": "stdout",
     "output_type": "stream",
     "text": [
      "24.56\n"
     ]
    }
   ],
   "source": [
    "foo = 24.5555\n",
    "print(f\"{foo:.2f}\")\n"
   ]
  },
  {
   "cell_type": "code",
   "execution_count": 44,
   "metadata": {},
   "outputs": [
    {
     "name": "stdout",
     "output_type": "stream",
     "text": [
      "94.30000000000001\n",
      "66.60000000000002\n"
     ]
    }
   ],
   "source": [
    "print(577.1-482.8)\n",
    "print(433.3-366.7)"
   ]
  },
  {
   "cell_type": "code",
   "execution_count": 46,
   "metadata": {},
   "outputs": [
    {
     "name": "stdout",
     "output_type": "stream",
     "text": [
      "10000 10001.38\n"
     ]
    }
   ],
   "source": [
    "print(100**2, (33.3**2+94.3**2))"
   ]
  },
  {
   "cell_type": "code",
   "execution_count": 48,
   "metadata": {},
   "outputs": [
    {
     "data": {
      "text/plain": [
       "197.2082909007631"
      ]
     },
     "execution_count": 48,
     "metadata": {},
     "output_type": "execute_result"
    }
   ],
   "source": [
    "math.sqrt(200**2-33.3**2)"
   ]
  },
  {
   "cell_type": "code",
   "execution_count": 49,
   "metadata": {},
   "outputs": [
    {
     "data": {
      "text/plain": [
       "774.3"
      ]
     },
     "execution_count": 49,
     "metadata": {},
     "output_type": "execute_result"
    }
   ],
   "source": [
    "577.1+197.2"
   ]
  },
  {
   "cell_type": "code",
   "execution_count": null,
   "metadata": {},
   "outputs": [],
   "source": []
  }
 ],
 "metadata": {
  "kernelspec": {
   "display_name": "Python 3",
   "language": "python",
   "name": "python3"
  },
  "language_info": {
   "codemirror_mode": {
    "name": "ipython",
    "version": 3
   },
   "file_extension": ".py",
   "mimetype": "text/x-python",
   "name": "python",
   "nbconvert_exporter": "python",
   "pygments_lexer": "ipython3",
   "version": "3.7.3"
  }
 },
 "nbformat": 4,
 "nbformat_minor": 2
}
