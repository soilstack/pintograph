{
 "cells": [
  {
   "cell_type": "code",
   "execution_count": 1,
   "metadata": {},
   "outputs": [],
   "source": [
    "import math\n"
   ]
  },
  {
   "cell_type": "code",
   "execution_count": 7,
   "metadata": {},
   "outputs": [],
   "source": [
    "def get_circle_linkage(radius, origin, rotation_rate, cycle, degree_offset=0):\n",
    "    \"\"\"\n",
    "    radius:\n",
    "    origin: (x,y)\n",
    "    rotation_rate: cycles per full revolution\n",
    "    cycle: \n",
    "    degree_offset:  offset the arm by n-Degrees \n",
    "    \"\"\"\n",
    "    \n",
    "    RADIANS_IN_CIRCLE = 2 * math.pi\n",
    "\n",
    "    pct_rotation = (cycle*1.0 % rotation_rate) / rotation_rate\n",
    "    radians = (RADIANS_IN_CIRCLE * pct_rotation) + math.radians(degree_offset)\n",
    "    #print(pct_rotation, radians)\n",
    "    x_component = radius * math.cos(radians)\n",
    "    y_component = radius * math.sin(radians)\n",
    "    pivot = (origin[0]+x_component, origin[1]+y_component)\n",
    "    return pivot\n",
    "\n",
    "def get_vertex_point(P0, P1, L1, L2, ):\n",
    "    \"\"\"\n",
    "    P0:  (x,y) position of point 0\n",
    "    P1:  (x,y) position of point 1\n",
    "    L1:  length of arm 1\n",
    "    L2:  length of arm 2\n",
    "    \n",
    "    returns (P3a, P3b) \n",
    "    \"\"\"\n",
    "    \n",
    "    d = math.sqrt((P1[0]-P0[0])**2 + (P1[1]-P0[1])**2) \n",
    "    a = (L1**2 + d**2 - L2**2)/(2*d)\n",
    "    h = math.sqrt(L1**2 - a**2)\n",
    "    b = math.sqrt(L2**2 - h**2)\n",
    "    \n",
    "    _x2 = P0[0] + (a/d)*(P1[0]-P0[0])\n",
    "    _y2 = P0[1] + (a/d)*(P1[1]-P0[1])\n",
    "    P2 = (_x2,_y2)\n",
    "    \n",
    "    _x3a = P2[0] - h*(P1[1]-P0[1])/d\n",
    "    _y3a = P2[1] + h*(P1[0]-P0[0])/d\n",
    "    P3a = (_x3a, _y3a)\n",
    "    \n",
    "    _x3b = P2[0] + h*(P1[1]-P0[1])/d\n",
    "    _y3b = P2[1] - h*(P1[0]-P0[0])/d\n",
    "    P3b = (_x3b, _y3b)\n",
    "    \n",
    "    return (P3a, P3b)\n",
    "\n",
    "\n",
    "def extrapolate_pivot(origin_pt, pivot_pt, beam_length):\n",
    "    \"\"\"\n",
    "    return location of point on other side of the pivot\n",
    "    beam_length: the length of the second half of segment\n",
    "    \"\"\"\n",
    "    \n",
    "    d = math.sqrt((pivot_pt[0]-origin_pt[0])**2 + (pivot_pt[1]-origin_pt[1])**2)\n",
    "    #print(d)\n",
    "    x_unit_component = (pivot_pt[0]-origin_pt[0])/d\n",
    "    y_unit_component = (pivot_pt[1]-origin_pt[1])/d\n",
    "    #print(x_unit_component, y_unit_component)\n",
    "    result_pt = ( (pivot_pt[0]+x_unit_component*beam_length), (pivot_pt[1]+y_unit_component*beam_length) )\n",
    "    return result_pt"
   ]
  },
  {
   "cell_type": "code",
   "execution_count": 9,
   "metadata": {},
   "outputs": [
    {
     "data": {
      "text/plain": [
       "(-39.1746824840493, 1012.7759765534176)"
      ]
     },
     "execution_count": 9,
     "metadata": {},
     "output_type": "execute_result"
    }
   ],
   "source": [
    "def work():\n",
    "    \n",
    "    left_radius=100\n",
    "    left_origin=(200,200)\n",
    "    left_rotation_rate = 21*10\n",
    "    left_degree_offset = 0\n",
    "\n",
    "    right_radius=100\n",
    "    right_origin=(200,200)\n",
    "    right_rotation_rate = 23*10\n",
    "    right_degree_offset = 0\n",
    "\n",
    "    L1 = 300\n",
    "    L2 = 300\n",
    "    L3 = 300\n",
    "    L4 = 300\n",
    "    L5 = 300\n",
    "    L6 = 300\n",
    "        \n",
    "    cycle = 10\n",
    "    \n",
    "    P0 = get_circle_linkage(left_radius, left_origin, left_rotation_rate, cycle, degree_offset=left_degree_offset)\n",
    "    P1 = get_circle_linkage(right_radius, right_origin, right_rotation_rate, cycle, degree_offset=right_degree_offset)\n",
    "    \n",
    "    P2 = get_vertex_point(P0, P1, L1, L2, )[0]\n",
    "    \n",
    "    P3 = extrapolate_pivot(origin_pt=P1, pivot_pt=P2, beam_length=L3)\n",
    "    P4 = extrapolate_pivot(origin_pt=P0, pivot_pt=P2, beam_length=L4)\n",
    "    \n",
    "    P_pen = get_vertex_point(P3, P4, L5, L6, )[0]\n",
    "    \n",
    "    return P_pen\n",
    "\n",
    "\n",
    "work()\n",
    "    \n",
    "    "
   ]
  },
  {
   "cell_type": "code",
   "execution_count": null,
   "metadata": {},
   "outputs": [],
   "source": []
  }
 ],
 "metadata": {
  "kernelspec": {
   "display_name": "Python 3",
   "language": "python",
   "name": "python3"
  },
  "language_info": {
   "codemirror_mode": {
    "name": "ipython",
    "version": 3
   },
   "file_extension": ".py",
   "mimetype": "text/x-python",
   "name": "python",
   "nbconvert_exporter": "python",
   "pygments_lexer": "ipython3",
   "version": "3.7.3"
  }
 },
 "nbformat": 4,
 "nbformat_minor": 2
}
